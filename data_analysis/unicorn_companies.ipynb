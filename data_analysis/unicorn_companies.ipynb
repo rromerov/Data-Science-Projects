{
 "cells": [
  {
   "attachments": {},
   "cell_type": "markdown",
   "metadata": {},
   "source": [
    "# Unicorn companies\n",
    "A unicorn company according to [Investopia](https://www.investopedia.com/terms/u/unicorn.asp) refers to a privately held startup company with a value of over $1 billion. It is commonly used in the venture capital industry. The term was first popularized by venture capitalist Aileen Lee. Unicorns are very rare and require innovation. Because of their sheer size, unicorn investors tend to be private investors or venture capitalists, which means they are out of the reach of retail investors. Although it isn't necessary, many unicorns work their way to going public. "
   ]
  },
  {
   "attachments": {},
   "cell_type": "markdown",
   "metadata": {},
   "source": [
    "Let's dive into a dataset provided by [DataCamp](https://app.datacamp.com/workspace/overview)\n",
    "\n",
    "First we import the libraries that are needed for the exploration of the dataset"
   ]
  },
  {
   "cell_type": "code",
   "execution_count": 103,
   "metadata": {},
   "outputs": [],
   "source": [
    "import pandas as pd\n",
    "import matplotlib.pyplot as plt\n",
    "import seaborn as sns"
   ]
  },
  {
   "attachments": {},
   "cell_type": "markdown",
   "metadata": {},
   "source": [
    "Then we look at the dataset for a better understanding of the information"
   ]
  },
  {
   "cell_type": "code",
   "execution_count": 104,
   "metadata": {},
   "outputs": [
    {
     "data": {
      "text/html": [
       "<div>\n",
       "<style scoped>\n",
       "    .dataframe tbody tr th:only-of-type {\n",
       "        vertical-align: middle;\n",
       "    }\n",
       "\n",
       "    .dataframe tbody tr th {\n",
       "        vertical-align: top;\n",
       "    }\n",
       "\n",
       "    .dataframe thead th {\n",
       "        text-align: right;\n",
       "    }\n",
       "</style>\n",
       "<table border=\"1\" class=\"dataframe\">\n",
       "  <thead>\n",
       "    <tr style=\"text-align: right;\">\n",
       "      <th></th>\n",
       "      <th>company</th>\n",
       "      <th>country</th>\n",
       "      <th>continent</th>\n",
       "      <th>company_id</th>\n",
       "      <th>year_founded</th>\n",
       "      <th>year_joined</th>\n",
       "      <th>valuation</th>\n",
       "      <th>industry</th>\n",
       "    </tr>\n",
       "  </thead>\n",
       "  <tbody>\n",
       "    <tr>\n",
       "      <th>0</th>\n",
       "      <td>Otto Bock HealthCare</td>\n",
       "      <td>Germany</td>\n",
       "      <td>Europe</td>\n",
       "      <td>189</td>\n",
       "      <td>1919</td>\n",
       "      <td>2017</td>\n",
       "      <td>4000000000</td>\n",
       "      <td>Health</td>\n",
       "    </tr>\n",
       "    <tr>\n",
       "      <th>1</th>\n",
       "      <td>Matrixport</td>\n",
       "      <td>Singapore</td>\n",
       "      <td>Asia</td>\n",
       "      <td>848</td>\n",
       "      <td>2019</td>\n",
       "      <td>2021</td>\n",
       "      <td>1000000000</td>\n",
       "      <td>Fintech</td>\n",
       "    </tr>\n",
       "    <tr>\n",
       "      <th>2</th>\n",
       "      <td>Cloudinary</td>\n",
       "      <td>United States</td>\n",
       "      <td>North America</td>\n",
       "      <td>556</td>\n",
       "      <td>2011</td>\n",
       "      <td>2022</td>\n",
       "      <td>2000000000</td>\n",
       "      <td>Internet software &amp; services</td>\n",
       "    </tr>\n",
       "    <tr>\n",
       "      <th>3</th>\n",
       "      <td>PLACE</td>\n",
       "      <td>United States</td>\n",
       "      <td>North America</td>\n",
       "      <td>999</td>\n",
       "      <td>2020</td>\n",
       "      <td>2021</td>\n",
       "      <td>1000000000</td>\n",
       "      <td>Internet software &amp; services</td>\n",
       "    </tr>\n",
       "    <tr>\n",
       "      <th>4</th>\n",
       "      <td>candy.com</td>\n",
       "      <td>United States</td>\n",
       "      <td>North America</td>\n",
       "      <td>396</td>\n",
       "      <td>2021</td>\n",
       "      <td>2021</td>\n",
       "      <td>2000000000</td>\n",
       "      <td>Fintech</td>\n",
       "    </tr>\n",
       "    <tr>\n",
       "      <th>...</th>\n",
       "      <td>...</td>\n",
       "      <td>...</td>\n",
       "      <td>...</td>\n",
       "      <td>...</td>\n",
       "      <td>...</td>\n",
       "      <td>...</td>\n",
       "      <td>...</td>\n",
       "      <td>...</td>\n",
       "    </tr>\n",
       "    <tr>\n",
       "      <th>1069</th>\n",
       "      <td>Poizon</td>\n",
       "      <td>China</td>\n",
       "      <td>Asia</td>\n",
       "      <td>1002</td>\n",
       "      <td>2015</td>\n",
       "      <td>2019</td>\n",
       "      <td>1000000000</td>\n",
       "      <td>Mobile &amp; telecommunications</td>\n",
       "    </tr>\n",
       "    <tr>\n",
       "      <th>1070</th>\n",
       "      <td>SSENSE</td>\n",
       "      <td>Canada</td>\n",
       "      <td>North America</td>\n",
       "      <td>215</td>\n",
       "      <td>2003</td>\n",
       "      <td>2021</td>\n",
       "      <td>4000000000</td>\n",
       "      <td>E-commerce &amp; direct-to-consumer</td>\n",
       "    </tr>\n",
       "    <tr>\n",
       "      <th>1071</th>\n",
       "      <td>Assembly</td>\n",
       "      <td>United States</td>\n",
       "      <td>North America</td>\n",
       "      <td>866</td>\n",
       "      <td>2019</td>\n",
       "      <td>2021</td>\n",
       "      <td>1000000000</td>\n",
       "      <td>Internet software &amp; services</td>\n",
       "    </tr>\n",
       "    <tr>\n",
       "      <th>1072</th>\n",
       "      <td>Xiaobing</td>\n",
       "      <td>China</td>\n",
       "      <td>Asia</td>\n",
       "      <td>651</td>\n",
       "      <td>2020</td>\n",
       "      <td>2021</td>\n",
       "      <td>1000000000</td>\n",
       "      <td>Fintech</td>\n",
       "    </tr>\n",
       "    <tr>\n",
       "      <th>1073</th>\n",
       "      <td>Carson Group</td>\n",
       "      <td>United States</td>\n",
       "      <td>North America</td>\n",
       "      <td>890</td>\n",
       "      <td>2012</td>\n",
       "      <td>2021</td>\n",
       "      <td>1000000000</td>\n",
       "      <td>Fintech</td>\n",
       "    </tr>\n",
       "  </tbody>\n",
       "</table>\n",
       "<p>1074 rows × 8 columns</p>\n",
       "</div>"
      ],
      "text/plain": [
       "                   company        country      continent  company_id  \\\n",
       "0     Otto Bock HealthCare        Germany         Europe         189   \n",
       "1               Matrixport      Singapore           Asia         848   \n",
       "2               Cloudinary  United States  North America         556   \n",
       "3                    PLACE  United States  North America         999   \n",
       "4                candy.com  United States  North America         396   \n",
       "...                    ...            ...            ...         ...   \n",
       "1069                Poizon          China           Asia        1002   \n",
       "1070                SSENSE         Canada  North America         215   \n",
       "1071              Assembly  United States  North America         866   \n",
       "1072              Xiaobing          China           Asia         651   \n",
       "1073          Carson Group  United States  North America         890   \n",
       "\n",
       "      year_founded  year_joined   valuation                         industry  \n",
       "0             1919         2017  4000000000                           Health  \n",
       "1             2019         2021  1000000000                          Fintech  \n",
       "2             2011         2022  2000000000     Internet software & services  \n",
       "3             2020         2021  1000000000     Internet software & services  \n",
       "4             2021         2021  2000000000                          Fintech  \n",
       "...            ...          ...         ...                              ...  \n",
       "1069          2015         2019  1000000000      Mobile & telecommunications  \n",
       "1070          2003         2021  4000000000  E-commerce & direct-to-consumer  \n",
       "1071          2019         2021  1000000000     Internet software & services  \n",
       "1072          2020         2021  1000000000                          Fintech  \n",
       "1073          2012         2021  1000000000                          Fintech  \n",
       "\n",
       "[1074 rows x 8 columns]"
      ]
     },
     "execution_count": 104,
     "metadata": {},
     "output_type": "execute_result"
    }
   ],
   "source": [
    "df=pd.read_csv(\"unicorns.csv\")\n",
    "df"
   ]
  },
  {
   "cell_type": "code",
   "execution_count": 105,
   "metadata": {},
   "outputs": [
    {
     "data": {
      "text/plain": [
       "company         0\n",
       "country         0\n",
       "continent       0\n",
       "company_id      0\n",
       "year_founded    0\n",
       "year_joined     0\n",
       "valuation       0\n",
       "industry        0\n",
       "dtype: int64"
      ]
     },
     "execution_count": 105,
     "metadata": {},
     "output_type": "execute_result"
    }
   ],
   "source": [
    "#Verifiy missing values\n",
    "df.isnull().sum()"
   ]
  },
  {
   "cell_type": "code",
   "execution_count": 106,
   "metadata": {},
   "outputs": [
    {
     "data": {
      "text/html": [
       "<div>\n",
       "<style scoped>\n",
       "    .dataframe tbody tr th:only-of-type {\n",
       "        vertical-align: middle;\n",
       "    }\n",
       "\n",
       "    .dataframe tbody tr th {\n",
       "        vertical-align: top;\n",
       "    }\n",
       "\n",
       "    .dataframe thead th {\n",
       "        text-align: right;\n",
       "    }\n",
       "</style>\n",
       "<table border=\"1\" class=\"dataframe\">\n",
       "  <thead>\n",
       "    <tr style=\"text-align: right;\">\n",
       "      <th></th>\n",
       "      <th>company_id</th>\n",
       "      <th>year_founded</th>\n",
       "      <th>year_joined</th>\n",
       "      <th>valuation</th>\n",
       "    </tr>\n",
       "  </thead>\n",
       "  <tbody>\n",
       "    <tr>\n",
       "      <th>count</th>\n",
       "      <td>1074.000000</td>\n",
       "      <td>1074.000000</td>\n",
       "      <td>1074.000000</td>\n",
       "      <td>1.074000e+03</td>\n",
       "    </tr>\n",
       "    <tr>\n",
       "      <th>mean</th>\n",
       "      <td>536.500000</td>\n",
       "      <td>2012.895717</td>\n",
       "      <td>2019.896648</td>\n",
       "      <td>3.455307e+09</td>\n",
       "    </tr>\n",
       "    <tr>\n",
       "      <th>std</th>\n",
       "      <td>310.181399</td>\n",
       "      <td>5.698573</td>\n",
       "      <td>2.001288</td>\n",
       "      <td>8.547022e+09</td>\n",
       "    </tr>\n",
       "    <tr>\n",
       "      <th>min</th>\n",
       "      <td>0.000000</td>\n",
       "      <td>1919.000000</td>\n",
       "      <td>2007.000000</td>\n",
       "      <td>1.000000e+09</td>\n",
       "    </tr>\n",
       "    <tr>\n",
       "      <th>25%</th>\n",
       "      <td>268.250000</td>\n",
       "      <td>2011.000000</td>\n",
       "      <td>2019.000000</td>\n",
       "      <td>1.000000e+09</td>\n",
       "    </tr>\n",
       "    <tr>\n",
       "      <th>50%</th>\n",
       "      <td>536.500000</td>\n",
       "      <td>2014.000000</td>\n",
       "      <td>2021.000000</td>\n",
       "      <td>2.000000e+09</td>\n",
       "    </tr>\n",
       "    <tr>\n",
       "      <th>75%</th>\n",
       "      <td>804.750000</td>\n",
       "      <td>2016.000000</td>\n",
       "      <td>2021.000000</td>\n",
       "      <td>3.000000e+09</td>\n",
       "    </tr>\n",
       "    <tr>\n",
       "      <th>max</th>\n",
       "      <td>1073.000000</td>\n",
       "      <td>2021.000000</td>\n",
       "      <td>2022.000000</td>\n",
       "      <td>1.800000e+11</td>\n",
       "    </tr>\n",
       "  </tbody>\n",
       "</table>\n",
       "</div>"
      ],
      "text/plain": [
       "        company_id  year_founded  year_joined     valuation\n",
       "count  1074.000000   1074.000000  1074.000000  1.074000e+03\n",
       "mean    536.500000   2012.895717  2019.896648  3.455307e+09\n",
       "std     310.181399      5.698573     2.001288  8.547022e+09\n",
       "min       0.000000   1919.000000  2007.000000  1.000000e+09\n",
       "25%     268.250000   2011.000000  2019.000000  1.000000e+09\n",
       "50%     536.500000   2014.000000  2021.000000  2.000000e+09\n",
       "75%     804.750000   2016.000000  2021.000000  3.000000e+09\n",
       "max    1073.000000   2021.000000  2022.000000  1.800000e+11"
      ]
     },
     "execution_count": 106,
     "metadata": {},
     "output_type": "execute_result"
    }
   ],
   "source": [
    "#View descriptive stadistics\n",
    "df.describe()"
   ]
  },
  {
   "cell_type": "code",
   "execution_count": 107,
   "metadata": {},
   "outputs": [
    {
     "data": {
      "text/plain": [
       "company         object\n",
       "country         object\n",
       "continent       object\n",
       "company_id       int64\n",
       "year_founded     int64\n",
       "year_joined      int64\n",
       "valuation        int64\n",
       "industry        object\n",
       "dtype: object"
      ]
     },
     "execution_count": 107,
     "metadata": {},
     "output_type": "execute_result"
    }
   ],
   "source": [
    "# visualize the data types\n",
    "df.dtypes"
   ]
  },
  {
   "cell_type": "code",
   "execution_count": 108,
   "metadata": {},
   "outputs": [],
   "source": [
    "#For a more readable format of the valuation column, the commas are added\n",
    "df[\"valuation\"]=df[\"valuation\"].map('{:,d}'.format)"
   ]
  },
  {
   "attachments": {},
   "cell_type": "markdown",
   "metadata": {},
   "source": [
    "Now it's time to see information about the companies"
   ]
  },
  {
   "cell_type": "code",
   "execution_count": 109,
   "metadata": {},
   "outputs": [
    {
     "data": {
      "text/html": [
       "<div>\n",
       "<style scoped>\n",
       "    .dataframe tbody tr th:only-of-type {\n",
       "        vertical-align: middle;\n",
       "    }\n",
       "\n",
       "    .dataframe tbody tr th {\n",
       "        vertical-align: top;\n",
       "    }\n",
       "\n",
       "    .dataframe thead th {\n",
       "        text-align: right;\n",
       "    }\n",
       "</style>\n",
       "<table border=\"1\" class=\"dataframe\">\n",
       "  <thead>\n",
       "    <tr style=\"text-align: right;\">\n",
       "      <th></th>\n",
       "      <th>company</th>\n",
       "      <th>country</th>\n",
       "      <th>continent</th>\n",
       "      <th>company_id</th>\n",
       "      <th>year_founded</th>\n",
       "      <th>year_joined</th>\n",
       "      <th>valuation</th>\n",
       "      <th>industry</th>\n",
       "    </tr>\n",
       "  </thead>\n",
       "  <tbody>\n",
       "    <tr>\n",
       "      <th>449</th>\n",
       "      <td>Stripe</td>\n",
       "      <td>United States</td>\n",
       "      <td>North America</td>\n",
       "      <td>3</td>\n",
       "      <td>2010</td>\n",
       "      <td>2014</td>\n",
       "      <td>95,000,000,000</td>\n",
       "      <td>Fintech</td>\n",
       "    </tr>\n",
       "  </tbody>\n",
       "</table>\n",
       "</div>"
      ],
      "text/plain": [
       "    company        country      continent  company_id  year_founded  \\\n",
       "449  Stripe  United States  North America           3          2010   \n",
       "\n",
       "     year_joined       valuation industry  \n",
       "449         2014  95,000,000,000  Fintech  "
      ]
     },
     "execution_count": 109,
     "metadata": {},
     "output_type": "execute_result"
    }
   ],
   "source": [
    "# We want to know the most valuable company, for that we filter by using the valuation feature of the dataset\n",
    "most_valuable_company=df[df[\"valuation\"]==df[\"valuation\"].max()]\n",
    "most_valuable_company"
   ]
  },
  {
   "attachments": {},
   "cell_type": "markdown",
   "metadata": {},
   "source": [
    "[ByteDance](https://www.bytedance.com/en/) is a technology company operating a range of content platforms that inform, educate, entertain and inspire people across languages, cultures, and geographies.\n",
    "\n",
    "Dedicated to building global platforms of creation and interaction, ByteDance now has a portfolio of applications available in over 150 markets and 75 languages. For example, TikTok, Helo, Vigo Video, Douyin, and Huoshan.\n",
    "\n",
    "ByteDance's platforms aim to help users explore and discover the world's creativity, knowledge and moments that matter in everyday life while empowering everyone to be a creator directly from their smartphones."
   ]
  },
  {
   "attachments": {
    "image.png": {
     "image/png": "[encoded data removed]"
    }
   },
   "cell_type": "markdown",
   "metadata": {},
   "source": [
    "![image.png](attachment:image.png)"
   ]
  },
  {
   "cell_type": "code",
   "execution_count": 110,
   "metadata": {},
   "outputs": [
    {
     "name": "stdout",
     "output_type": "stream",
     "text": [
      "Number of companies that are the less valuable:  471\n",
      "Amount of money that they're worth it: 1,000,000,000\n"
     ]
    }
   ],
   "source": [
    "#Know we do the same with the less valuable unicorn companies\n",
    "less_valuable_companies=df[df[\"valuation\"]==df.valuation.min()]\n",
    "print(\"Number of companies that are the less valuable: \",len(less_valuable_companies))\n",
    "print(\"Amount of money that they're worth it:\",df.valuation.min())"
   ]
  },
  {
   "attachments": {},
   "cell_type": "markdown",
   "metadata": {},
   "source": [
    "There are 471 companies that have a valuation of 1B dollars. Which is the minimum valuation needed to be considered a unicorn company"
   ]
  },
  {
   "cell_type": "code",
   "execution_count": 111,
   "metadata": {},
   "outputs": [
    {
     "data": {
      "text/plain": [
       "<Figure size 720x864 with 0 Axes>"
      ]
     },
     "execution_count": 111,
     "metadata": {},
     "output_type": "execute_result"
    },
    {
     "data": {
      "image/png": "[encoded data removed]",
      "text/plain": [
       "<Figure size 432x288 with 1 Axes>"
      ]
     },
     "metadata": {
      "needs_background": "light"
     },
     "output_type": "display_data"
    }
   ],
   "source": [
    "plt.hist(x=df[\"continent\"])\n",
    "plt.Figure(figsize=(10,12))"
   ]
  },
  {
   "attachments": {},
   "cell_type": "markdown",
   "metadata": {},
   "source": [
    "As we can see from this insight North America and South America are in two columns, which in my point of view is not correct, if we want to compare across continents, let's merge this values from **continents** into one"
   ]
  },
  {
   "cell_type": "code",
   "execution_count": 112,
   "metadata": {},
   "outputs": [],
   "source": [
    "# let's create a function to fix this\n",
    "def rename_cells(column,old_values,new_value):\n",
    "    for i in range(len(old_values)):\n",
    "        df[column]=df[column].replace(old_values[i],new_value)\n",
    "    return df\n"
   ]
  },
  {
   "cell_type": "code",
   "execution_count": 113,
   "metadata": {},
   "outputs": [
    {
     "data": {
      "text/plain": [
       "array(['Europe', 'Asia', 'America', 'Oceania', 'Africa'], dtype=object)"
      ]
     },
     "execution_count": 113,
     "metadata": {},
     "output_type": "execute_result"
    }
   ],
   "source": [
    "rename_cells(\"continent\",[\"North America\",\"South America\"],\"America\")\n",
    "# To visualize if this has been fixes we use unique method from pandas\n",
    "df.continent.unique()\n"
   ]
  },
  {
   "cell_type": "code",
   "execution_count": null,
   "metadata": {},
   "outputs": [],
   "source": []
  }
 ],
 "metadata": {
  "kernelspec": {
   "display_name": "Python 3",
   "language": "python",
   "name": "python3"
  },
  "language_info": {
   "codemirror_mode": {
    "name": "ipython",
    "version": 3
   },
   "file_extension": ".py",
   "mimetype": "text/x-python",
   "name": "python",
   "nbconvert_exporter": "python",
   "pygments_lexer": "ipython3",
   "version": "3.9.7"
  },
  "orig_nbformat": 4,
  "vscode": {
   "interpreter": {
    "hash": "f8b966a247241c6fd710b2830295840772be9d2629ac9f1c3370fb179c9f1157"
   }
  }
 },
 "nbformat": 4,
 "nbformat_minor": 2
}
